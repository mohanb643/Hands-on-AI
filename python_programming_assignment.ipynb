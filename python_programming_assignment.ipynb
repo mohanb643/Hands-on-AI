{
 "cells": [
  {
   "cell_type": "code",
   "execution_count": 10,
   "id": "c9ec103e-f8ca-4ffa-8594-635529120289",
   "metadata": {},
   "outputs": [
    {
     "name": "stdout",
     "output_type": "stream",
     "text": [
      "Hello, Mr Nitin\n",
      "\n",
      "Average Salary by Department:\n",
      "Department\n",
      "Engineering     650000.0\n",
      "IT             1200000.0\n",
      "Products       2075000.0\n",
      "Research       1350000.0\n",
      "Semantics      1200000.0\n",
      "Name: Salary, dtype: float64\n",
      "\n",
      "Employee Details:\n",
      "Nitin Bhole | 01-11-2016 | Products\n",
      "\n",
      "Employees sorted by Date of Joining:\n",
      "      EID      Employee Name Date of Joining   Department\n",
      "12  E620Y     Kumar Abhishek      2014-12-01    Semantics\n",
      "7   E184A  Kushmakar Krishna      2015-01-01     Products\n",
      "4   E098Z    Rajendra Prabhu      2015-11-11    Semantics\n",
      "8   E104S     Amarnath Patil      2015-11-29  Engineering\n",
      "3   E123B      Pankaj Bansal      2015-12-01     Research\n",
      "1   E876G     Mayur Kulkarni      2016-06-03    Semantics\n",
      "2   E798G      Anurag Pandey      2016-07-04           IT\n",
      "0   E123D        Nitin Bhole      2016-11-01     Products\n",
      "5   E294M     Sumanth Mishra      2017-09-04     Research\n",
      "6   E972L          Sai Bodha      2017-11-11    Semantics\n",
      "10  E983Q     Chakshu Bansal      2017-12-04     Products\n",
      "9   E093V   Shashidhar Reddy      2018-11-29  Engineering\n",
      "13  E109U     Sanket Gibbidi      2019-01-11     Products\n",
      "11  E092E       Mitali Gupta      2019-05-02    Semantics\n"
     ]
    }
   ],
   "source": [
    "import pandas as pd\n",
    "\n",
    "# Load the employee data from CSV\n",
    "df = pd.read_csv(\"employee.csv\")\n",
    "\n",
    "# Function to greet employee by EID\n",
    "def greet_employee(eid):\n",
    "    employee = df[df['EID'] == eid]\n",
    "    if not employee.empty:\n",
    "        first_name = employee['Employee Name'].values[0].split()[0]\n",
    "        gender = employee['Gender'].values[0]\n",
    "        salutation = \"Mr\" if gender == 'M' else \"Ms\"\n",
    "        return f\"Hello, {salutation} {first_name}\"\n",
    "    else:\n",
    "        return \"Employee ID not found\"\n",
    "\n",
    "# Function to calculate average salary by department\n",
    "def average_salary_by_department():\n",
    "    return df.groupby('Department')['Salary'].mean()\n",
    "\n",
    "# Function to display employee details by EID\n",
    "def employee_details(eid):\n",
    "    employee = df[df['EID'] == eid]\n",
    "    if not employee.empty:\n",
    "        name = employee['Employee Name'].values[0]\n",
    "        doj = employee['Date of Joining'].values[0]\n",
    "        dept = employee['Department'].values[0]\n",
    "        return f\"{name} | {doj} | {dept}\"\n",
    "    else:\n",
    "        return \"Employee ID not found\"\n",
    "\n",
    "# Function to sort employees from oldest to newest by Date of Joining\n",
    "def sort_employees_by_doj():\n",
    "    df_sorted = df.copy()\n",
    "    df_sorted['Date of Joining'] = pd.to_datetime(df_sorted['Date of Joining'], dayfirst=True)\n",
    "    df_sorted = df_sorted.sort_values(by='Date of Joining')\n",
    "    return df_sorted[['EID', 'Employee Name', 'Date of Joining', 'Department']]\n",
    "\n",
    "# Example usage:\n",
    "if __name__ == \"__main__\":\n",
    "    # Change EID for testing different employees\n",
    "    eid_test = 'E123D'\n",
    "    print(greet_employee(eid_test))\n",
    "    print(\"\\nAverage Salary by Department:\")\n",
    "    print(average_salary_by_department())\n",
    "    print(\"\\nEmployee Details:\")\n",
    "    print(employee_details(eid_test))\n",
    "    print(\"\\nEmployees sorted by Date of Joining:\")\n",
    "    print(sort_employees_by_doj())"
   ]
  },
  {
   "cell_type": "code",
   "execution_count": null,
   "id": "abcc57be-4ac2-43eb-91fc-bcac09360db8",
   "metadata": {},
   "outputs": [],
   "source": []
  }
 ],
 "metadata": {
  "kernelspec": {
   "display_name": "Python (ai_env)",
   "language": "python",
   "name": "ai_env"
  },
  "language_info": {
   "codemirror_mode": {
    "name": "ipython",
    "version": 3
   },
   "file_extension": ".py",
   "mimetype": "text/x-python",
   "name": "python",
   "nbconvert_exporter": "python",
   "pygments_lexer": "ipython3",
   "version": "3.9.23"
  }
 },
 "nbformat": 4,
 "nbformat_minor": 5
}
